{
 "cells": [
  {
   "cell_type": "markdown",
   "metadata": {},
   "source": [
    "All basics algorithms of python"
   ]
  },
  {
   "cell_type": "code",
   "execution_count": 14,
   "metadata": {},
   "outputs": [
    {
     "name": "stdout",
     "output_type": "stream",
     "text": [
      "[1, 2, 3, 4, 5, 6, 7, 8, 9, 10]\n"
     ]
    }
   ],
   "source": [
    "#Bubble Sort\n",
    "def bubble_sort(lst:list) -> list:\n",
    "    if all(lst[i] <= lst[i + 1] for i in range(len(lst) - 1)):\n",
    "        return lst\n",
    "    for i in range(len(lst)-1):\n",
    "        if lst[i] > lst[i+1]:\n",
    "            lst[i], lst[i+1] = lst[i+1], lst[i]\n",
    "    return bubble_sort(lst)\n",
    "\n",
    "print(bubble_sort([8, 2, 5, 10, 1, 4, 9, 7, 3, 6]))"
   ]
  },
  {
   "cell_type": "code",
   "execution_count": 26,
   "metadata": {},
   "outputs": [
    {
     "name": "stdout",
     "output_type": "stream",
     "text": [
      "[1, 2, 3, 4, 5, 6, 7, 8, 9, 10]\n"
     ]
    }
   ],
   "source": [
    "#Selection Sort\n",
    "def selection_sort(lst:list) -> list:\n",
    "    if all(lst[i] <= lst[i + 1] for i in range(len(lst) - 1)):\n",
    "        return lst\n",
    "    for i in range(len(lst)):\n",
    "        small = i+lst[i:].index(min(lst[i:])) # Remember to plus i because the index choosen in the sliced list will be different to the original one \n",
    "        lst[i] , lst[small] = lst[small], lst[i]\n",
    "    return lst\n",
    "        \n",
    "print(selection_sort([8, 2, 5, 10, 1, 4, 9, 7, 3, 6]))"
   ]
  },
  {
   "cell_type": "code",
   "execution_count": null,
   "metadata": {},
   "outputs": [
    {
     "name": "stdout",
     "output_type": "stream",
     "text": [
      "[1, 2, 3, 4, 5, 6, 7, 8, 9, 10]\n"
     ]
    }
   ],
   "source": [
    "#inserion sort\n",
    "def insertion_sort(lst:list) -> list:\n",
    "    if all(lst[i] <= lst[i + 1] for i in range(len(lst) - 1)):\n",
    "        return lst\n",
    "    solved = [lst[0]]\n",
    "    lst.pop(0)\n",
    "    for i in lst:\n",
    "        for j in solved:\n",
    "            if j >= i:\n",
    "                solved.insert(solved.index(j), i)\n",
    "                break\n",
    "        else:\n",
    "            solved.append(i)\n",
    "    return solved\n",
    "\n",
    "print(insertion_sort([8, 2, 5, 10, 1, 4, 9, 7, 3, 6]))"
   ]
  },
  {
   "cell_type": "code",
   "execution_count": null,
   "metadata": {},
   "outputs": [
    {
     "name": "stdout",
     "output_type": "stream",
     "text": [
      "[1, 2, 3, 4, 5, 6, 7, 8, 9, 10]\n"
     ]
    }
   ],
   "source": [
    "#Merge sort\n",
    "def merge_sort(lst):\n",
    "    if len(lst) <= 1: #To indicate whether the function loop should stop\n",
    "        return lst\n",
    "    \n",
    "    # Divide the list into two halves\n",
    "    mid = len(lst) // 2\n",
    "    left_half = lst[:mid]\n",
    "    right_half = lst[mid:]\n",
    "    \n",
    "    # Recursively sort both halves\n",
    "    left_half = merge_sort(left_half)\n",
    "    right_half = merge_sort(right_half)\n",
    "    \n",
    "    return merge(left_half, right_half)\n",
    "\n",
    "def merge(left, right):\n",
    "    merged = []\n",
    "    left_index = right_index = 0\n",
    "    \n",
    "    # Merge the two sorted lists into a new sorted list\n",
    "    while left_index < len(left) and right_index < len(right):\n",
    "        if left[left_index] < right[right_index]:\n",
    "            merged.append(left[left_index])\n",
    "            left_index += 1\n",
    "        else:\n",
    "            merged.append(right[right_index])\n",
    "            right_index += 1\n",
    "    \n",
    "    merged.extend(left[left_index:])\n",
    "    merged.extend(right[right_index:])\n",
    "    \n",
    "    return merged\n",
    "\n",
    "# Test the merge sort algorithm\n",
    "print(merge_sort([8, 2, 5, 10, 1, 4, 9, 7, 3, 6]))"
   ]
  },
  {
   "cell_type": "code",
   "execution_count": null,
   "metadata": {},
   "outputs": [
    {
     "name": "stdout",
     "output_type": "stream",
     "text": [
      "[1, 2, 3, 4, 5, 6, 7, 8, 9, 10]\n"
     ]
    }
   ],
   "source": [
    "#Quick sort\n",
    "def quick_sort(lst:list) -> list:\n",
    "    if len(lst) <= 1: #To indicate whether the function loop should stop\n",
    "        return lst\n",
    "    pivot = lst[-1]\n",
    "    left = [i for i in lst if i < pivot]\n",
    "    right = [i for i in lst if i > pivot]\n",
    "    return quick_sort(left) + [pivot] + quick_sort(right)\n",
    "\n",
    "print(quick_sort([8, 2, 5, 10, 1, 4, 9, 7, 3, 6]))"
   ]
  },
  {
   "cell_type": "code",
   "execution_count": 52,
   "metadata": {},
   "outputs": [
    {
     "name": "stdout",
     "output_type": "stream",
     "text": [
      "9\n"
     ]
    }
   ],
   "source": [
    "#Linear search\n",
    "def linear_search(lst:list,target:int) -> int: #without using index function\n",
    "    count = 0\n",
    "    for i in lst:\n",
    "        if i == target:\n",
    "            return count\n",
    "        count+=1\n",
    "print(linear_search([8, 2, 5, 10, 1, 4, 9, 7, 3, 6],6))"
   ]
  },
  {
   "cell_type": "code",
   "execution_count": 65,
   "metadata": {},
   "outputs": [
    {
     "name": "stdout",
     "output_type": "stream",
     "text": [
      "Target 17 found at index 8.\n"
     ]
    }
   ],
   "source": [
    "def binary_search(arr, target):\n",
    "    left, right = 0, len(arr) - 1\n",
    "    \n",
    "    while left <= right:\n",
    "        mid = (left + right) // 2\n",
    "        \n",
    "        if arr[mid] == target:\n",
    "            return mid\n",
    "        elif arr[mid] < target:\n",
    "            left = mid + 1\n",
    "        else:\n",
    "            right = mid - 1\n",
    "    \n",
    "    return -1  # Return -1 if the target is not found\n",
    "\n",
    "# Test the binary search function\n",
    "arr = [1, 3, 5, 7, 9, 11, 13, 15, 17]\n",
    "target = 17\n",
    "result = binary_search(arr, target)\n",
    "\n",
    "if result != -1:\n",
    "    print(f\"Target {target} found at index {result}.\")\n",
    "else:\n",
    "    print(f\"Target {target} not found in the list.\")"
   ]
  }
 ],
 "metadata": {
  "kernelspec": {
   "display_name": "Python 3",
   "language": "python",
   "name": "python3"
  },
  "language_info": {
   "codemirror_mode": {
    "name": "ipython",
    "version": 3
   },
   "file_extension": ".py",
   "mimetype": "text/x-python",
   "name": "python",
   "nbconvert_exporter": "python",
   "pygments_lexer": "ipython3",
   "version": "3.11.4"
  }
 },
 "nbformat": 4,
 "nbformat_minor": 2
}
