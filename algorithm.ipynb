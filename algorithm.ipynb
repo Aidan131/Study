{
 "cells": [
  {
   "cell_type": "markdown",
   "metadata": {},
   "source": [
    "All basics algorithms of python"
   ]
  },
  {
   "cell_type": "markdown",
   "metadata": {},
   "source": [
    "Sorting Algorithms: /n\n",
    "Bubble Sort\n",
    "Selection Sort\n",
    "Insertion Sort\n",
    "Merge Sort\n",
    "Quick Sort\n",
    "Searching Algorithms:\n",
    "Linear Search\n",
    "Binary Search\n",
    "Graph Algorithms:\n",
    "Breadth-First Search (BFS)\n",
    "Depth-First Search (DFS)\n",
    "Dijkstra's Algorithm (for shortest path)\n",
    "Bellman-Ford Algorithm (for shortest path with negative weights)\n",
    "Prim's Algorithm (for minimum spanning tree)\n",
    "Kruskal's Algorithm (for minimum spanning tree)\n",
    "Dynamic Programming Algorithms:\n",
    "Fibonacci Series\n",
    "Knapsack Problem\n",
    "Longest Common Subsequence\n",
    "Matrix Chain Multiplication\n",
    "Coin Change Problem\n",
    "Greedy Algorithms:\n",
    "Minimum Spanning Tree Algorithms\n",
    "Job Sequencing Problem\n",
    "Huffman Coding\n",
    "Backtracking Algorithms:\n",
    "N-Queens Problem\n",
    "Sudoku Solver\n",
    "Knight's Tour Problem\n",
    "String Algorithms:\n",
    "String Matching Algorithms (e.g., KMP Algorithm)\n",
    "Longest Palindromic Substring\n",
    "Anagram Detection\n",
    "Numerical Algorithms:\n",
    "Euclidean Algorithm (for GCD)\n",
    "Sieve of Eratosthenes (for Prime Numbers)\n",
    "Newton's Method (for finding roots)\n",
    "Machine Learning Algorithms:\n",
    "Linear Regression\n",
    "Logistic Regression\n",
    "K-Means Clustering\n",
    "Decision Trees\n",
    "Random Forest\n",
    "Optimization Algorithms:\n",
    "Gradient Descent\n",
    "Genetic Algorithms\n",
    "Simulated Annealing"
   ]
  },
  {
   "cell_type": "code",
   "execution_count": 14,
   "metadata": {},
   "outputs": [
    {
     "name": "stdout",
     "output_type": "stream",
     "text": [
      "[1, 2, 3, 4, 5, 6, 7, 8, 9, 10]\n"
     ]
    }
   ],
   "source": [
    "#Bubble Sort\n",
    "def bubble_sort(lst:list) -> list:\n",
    "    if all(lst[i] <= lst[i + 1] for i in range(len(lst) - 1)):\n",
    "        return lst\n",
    "    for i in range(len(lst)-1):\n",
    "        if lst[i] > lst[i+1]:\n",
    "            lst[i], lst[i+1] = lst[i+1], lst[i]\n",
    "    return bubble_sort(lst)\n",
    "\n",
    "print(bubble_sort([8, 2, 5, 10, 1, 4, 9, 7, 3, 6]))"
   ]
  },
  {
   "cell_type": "code",
   "execution_count": 26,
   "metadata": {},
   "outputs": [
    {
     "name": "stdout",
     "output_type": "stream",
     "text": [
      "[1, 2, 3, 4, 5, 6, 7, 8, 9, 10]\n"
     ]
    }
   ],
   "source": [
    "#Selection Sort\n",
    "def selection_sort(lst:list) -> list:\n",
    "    if all(lst[i] <= lst[i + 1] for i in range(len(lst) - 1)):\n",
    "        return lst\n",
    "    for i in range(len(lst)):\n",
    "        small = i+lst[i:].index(min(lst[i:])) # Remember to plus i because the index choosen in the sliced list will be different to the original one \n",
    "        lst[i] , lst[small] = lst[small], lst[i]\n",
    "    return lst\n",
    "        \n",
    "print(selection_sort([8, 2, 5, 10, 1, 4, 9, 7, 3, 6]))"
   ]
  },
  {
   "cell_type": "code",
   "execution_count": null,
   "metadata": {},
   "outputs": [],
   "source": [
    "    "
   ]
  }
 ],
 "metadata": {
  "kernelspec": {
   "display_name": "Python 3",
   "language": "python",
   "name": "python3"
  },
  "language_info": {
   "codemirror_mode": {
    "name": "ipython",
    "version": 3
   },
   "file_extension": ".py",
   "mimetype": "text/x-python",
   "name": "python",
   "nbconvert_exporter": "python",
   "pygments_lexer": "ipython3",
   "version": "3.11.4"
  }
 },
 "nbformat": 4,
 "nbformat_minor": 2
}
