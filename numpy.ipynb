{
 "cells": [
  {
   "cell_type": "markdown",
   "id": "b4907549",
   "metadata": {},
   "source": [
    "Numpy\n"
   ]
  },
  {
   "cell_type": "markdown",
   "id": "8d14b8ca",
   "metadata": {},
   "source": [
    "Importing Numpy"
   ]
  },
  {
   "cell_type": "code",
   "execution_count": 1,
   "id": "c97604fe",
   "metadata": {},
   "outputs": [],
   "source": [
    "import numpy as np"
   ]
  },
  {
   "cell_type": "markdown",
   "id": "0a250cb8",
   "metadata": {},
   "source": [
    "Basics of Numpy"
   ]
  },
  {
   "cell_type": "markdown",
   "id": "d66a9057",
   "metadata": {},
   "source": [
    "Arrays"
   ]
  },
  {
   "cell_type": "markdown",
   "id": "ecf2771f",
   "metadata": {
    "slideshow": {
     "slide_type": "notes"
    }
   },
   "source": [
    "Array is a structure for storing and retrieving data. A grid in place, with each cell storing an element.\n"
   ]
  },
  {
   "cell_type": "markdown",
   "id": "f8180316",
   "metadata": {},
   "source": [
    "All elements of the array must be of the same type of data.\n",
    "\n",
    "Once created, the total size of the array can’t change.\n",
    "\n",
    "The shape must be “rectangular”, not “jagged”; e.g., each row of a two-dimensional array must have the same number of columns."
   ]
  },
  {
   "cell_type": "code",
   "execution_count": 9,
   "id": "7cb9c2f6",
   "metadata": {},
   "outputs": [],
   "source": [
    "a = np.array([1, 2, 3, 4, 5, 6]) #creating one-dimensional array"
   ]
  },
  {
   "cell_type": "code",
   "execution_count": 3,
   "id": "2840c611",
   "metadata": {},
   "outputs": [
    {
     "data": {
      "text/plain": [
       "1"
      ]
     },
     "execution_count": 3,
     "metadata": {},
     "output_type": "execute_result"
    }
   ],
   "source": [
    "a[0]"
   ]
  },
  {
   "cell_type": "code",
   "execution_count": 10,
   "id": "69fe8e7f",
   "metadata": {},
   "outputs": [
    {
     "data": {
      "text/plain": [
       "array([10,  2,  3,  4,  5,  6])"
      ]
     },
     "execution_count": 10,
     "metadata": {},
     "output_type": "execute_result"
    }
   ],
   "source": [
    "a[0] = 10\n",
    "a"
   ]
  },
  {
   "cell_type": "markdown",
   "id": "81d03247",
   "metadata": {},
   "source": [
    "all selected data refers to the original array, even if it is saved in other variable"
   ]
  },
  {
   "cell_type": "code",
   "execution_count": 13,
   "id": "8c8a7a04",
   "metadata": {},
   "outputs": [
    {
     "name": "stdout",
     "output_type": "stream",
     "text": [
      "[100   5   6]\n",
      "[ 10   2   3 100   5   6]\n"
     ]
    }
   ],
   "source": [
    "b = a[3:] \n",
    "print(b)\n",
    "b[0] = 100\n",
    "print(a)"
   ]
  },
  {
   "cell_type": "markdown",
   "id": "f64419a7",
   "metadata": {},
   "source": [
    "Two and higher dimensional arrays can be initialized from nested Python sequences"
   ]
  },
  {
   "cell_type": "code",
   "execution_count": 14,
   "id": "57d7c517",
   "metadata": {},
   "outputs": [
    {
     "data": {
      "text/plain": [
       "array([[ 1,  2,  3,  4],\n",
       "       [ 5,  6,  7,  8],\n",
       "       [ 9, 10, 11, 12]])"
      ]
     },
     "execution_count": 14,
     "metadata": {},
     "output_type": "execute_result"
    }
   ],
   "source": [
    "two_dimensional_array = np.array([[1, 2, 3, 4], [5, 6, 7, 8], [9, 10, 11, 12]])\n",
    "two_dimensional_array"
   ]
  },
  {
   "cell_type": "markdown",
   "id": "6233ab58",
   "metadata": {},
   "source": [
    "Selecting data from high dimensional arrays"
   ]
  },
  {
   "cell_type": "code",
   "execution_count": 18,
   "id": "c85d229a",
   "metadata": {},
   "outputs": [
    {
     "data": {
      "text/plain": [
       "12"
      ]
     },
     "execution_count": 18,
     "metadata": {},
     "output_type": "execute_result"
    }
   ],
   "source": [
    "two_dimensional_array[2,3]"
   ]
  },
  {
   "cell_type": "markdown",
   "id": "e3d9c1f5",
   "metadata": {},
   "source": [
    "Array Attribute"
   ]
  },
  {
   "cell_type": "code",
   "execution_count": 19,
   "id": "cd767ad2",
   "metadata": {},
   "outputs": [
    {
     "data": {
      "text/plain": [
       "2"
      ]
     },
     "execution_count": 19,
     "metadata": {},
     "output_type": "execute_result"
    }
   ],
   "source": [
    "two_dimensional_array.ndim #The dimensional level of arrays are contained by the ndim attribute"
   ]
  },
  {
   "cell_type": "code",
   "execution_count": 23,
   "id": "d9db8921",
   "metadata": {},
   "outputs": [
    {
     "name": "stdout",
     "output_type": "stream",
     "text": [
      "(3, 4)\n",
      "(2, 3, 4)\n"
     ]
    }
   ],
   "source": [
    "print(two_dimensional_array.shape) #The shape of an array is the accorded to the number of datas contained in each dimension\n",
    "print(np.array([[[1, 2, 3, 4], [5, 6, 7, 8], [9, 10, 11, 12]],\n",
    "                [[13, 14, 15, 16], [17, 18, 19, 20], [21, 22, 23, 24]]]).shape)\n",
    "#The most outer bracket included 2 second dimension bracket and inside each two dimension bracket there is 3 third dimension bracket and 4 numeric data inside them therefore the shape is (2,3,4)"
   ]
  },
  {
   "cell_type": "code",
   "execution_count": 24,
   "id": "4ad7fc9a",
   "metadata": {},
   "outputs": [
    {
     "data": {
      "text/plain": [
       "12"
      ]
     },
     "execution_count": 24,
     "metadata": {},
     "output_type": "execute_result"
    }
   ],
   "source": [
    "two_dimensional_array.size #The count of most inner data is stored in size, and the size of any created array is fixed"
   ]
  },
  {
   "cell_type": "code",
   "execution_count": 26,
   "id": "8e344dfc",
   "metadata": {},
   "outputs": [
    {
     "data": {
      "text/plain": [
       "True"
      ]
     },
     "execution_count": 26,
     "metadata": {},
     "output_type": "execute_result"
    }
   ],
   "source": [
    "import math\n",
    "two_dimensional_array.size == math.prod(two_dimensional_array.shape) #The size of an array is always equals to the product(multiply) of the numbers of the array's shape."
   ]
  },
  {
   "cell_type": "code",
   "execution_count": 27,
   "id": "cca2a41e",
   "metadata": {},
   "outputs": [
    {
     "data": {
      "text/plain": [
       "dtype('int32')"
      ]
     },
     "execution_count": 27,
     "metadata": {},
     "output_type": "execute_result"
    }
   ],
   "source": [
    "two_dimensional_array.dtype #Arrays are typically \"homogeneous\" meaning that they contain element of only one datatype"
   ]
  },
  {
   "cell_type": "markdown",
   "id": "f479df02",
   "metadata": {},
   "source": [
    "Create Basic Arrays"
   ]
  },
  {
   "cell_type": "code",
   "execution_count": 28,
   "id": "5bb30e84",
   "metadata": {},
   "outputs": [
    {
     "data": {
      "text/plain": [
       "array([0., 0.])"
      ]
     },
     "execution_count": 28,
     "metadata": {},
     "output_type": "execute_result"
    }
   ],
   "source": [
    "np.zeros(2) #Create an array that containes all zero value"
   ]
  },
  {
   "cell_type": "code",
   "execution_count": 30,
   "id": "8348b701",
   "metadata": {},
   "outputs": [
    {
     "data": {
      "text/plain": [
       "array([[1., 1.],\n",
       "       [1., 1.]])"
      ]
     },
     "execution_count": 30,
     "metadata": {},
     "output_type": "execute_result"
    }
   ],
   "source": [
    "np.ones(shape = (2,2)) #Create an array that containes all one value"
   ]
  },
  {
   "cell_type": "code",
   "execution_count": null,
   "id": "66cfc8c8",
   "metadata": {},
   "outputs": [],
   "source": [
    "np.empty(2) #The function empty creates an array whose initial content is random and depends on the state of the memory. \n",
    "#The reason to use empty over zeros (or something similar) is speed - just make sure to fill every element afterwards!"
   ]
  },
  {
   "cell_type": "code",
   "execution_count": 33,
   "id": "1b6633d6",
   "metadata": {},
   "outputs": [
    {
     "data": {
      "text/plain": [
       "array([0, 1, 2, 3])"
      ]
     },
     "execution_count": 33,
     "metadata": {},
     "output_type": "execute_result"
    }
   ],
   "source": [
    "np.arange(4) #Range function but in array form"
   ]
  },
  {
   "cell_type": "code",
   "execution_count": 34,
   "id": "8ffceff9",
   "metadata": {},
   "outputs": [
    {
     "data": {
      "text/plain": [
       "array([2, 4, 6, 8])"
      ]
     },
     "execution_count": 34,
     "metadata": {},
     "output_type": "execute_result"
    }
   ],
   "source": [
    "np.arange(2,9,2) #Start, stop and step can be used in arange too"
   ]
  },
  {
   "cell_type": "code",
   "execution_count": 37,
   "id": "a64967f1",
   "metadata": {},
   "outputs": [
    {
     "data": {
      "text/plain": [
       "array([ 0. ,  2.5,  5. ,  7.5, 10. ])"
      ]
     },
     "execution_count": 37,
     "metadata": {},
     "output_type": "execute_result"
    }
   ],
   "source": [
    "np.linspace(0,10, num=5) #np.linspace() to create an array with values that are spaced linearly in a specified interval, num is to specify the count of numbers inclued"
   ]
  },
  {
   "cell_type": "code",
   "execution_count": 38,
   "id": "d499d86b",
   "metadata": {},
   "outputs": [
    {
     "data": {
      "text/plain": [
       "array(['1', '1'], dtype='<U1')"
      ]
     },
     "execution_count": 38,
     "metadata": {},
     "output_type": "execute_result"
    }
   ],
   "source": [
    "x = np.ones(2, dtype=np.str0) # While the default data type is floating point (np.float64), you can explicitly specify which data type you want using the dtype keyword.\n",
    "x"
   ]
  },
  {
   "cell_type": "markdown",
   "id": "9edb5def",
   "metadata": {},
   "source": [
    "Adding, Removing, and Sorting Elements"
   ]
  },
  {
   "cell_type": "code",
   "execution_count": 41,
   "id": "3c65816e",
   "metadata": {},
   "outputs": [
    {
     "data": {
      "text/plain": [
       "array([1, 2, 3, 4, 5, 6, 7, 8])"
      ]
     },
     "execution_count": 41,
     "metadata": {},
     "output_type": "execute_result"
    }
   ],
   "source": [
    "arr = np.array([2, 1, 5, 3, 7, 4, 6, 8]) #array used in this section\n",
    "np.sort(arr) #sort values in ascending order"
   ]
  },
  {
   "cell_type": "code",
   "execution_count": 42,
   "id": "3525a394",
   "metadata": {},
   "outputs": [
    {
     "data": {
      "text/plain": [
       "array([1, 2, 3, 4, 5, 6, 7, 8])"
      ]
     },
     "execution_count": 42,
     "metadata": {},
     "output_type": "execute_result"
    }
   ],
   "source": [
    "a = np.array([1, 2, 3, 4])\n",
    "b = np.array([5, 6, 7, 8])\n",
    "np.concatenate((a, b)) #Group two arrays"
   ]
  },
  {
   "cell_type": "code",
   "execution_count": 49,
   "id": "be4cb524",
   "metadata": {},
   "outputs": [
    {
     "data": {
      "text/plain": [
       "array([[1, 2],\n",
       "       [3, 4],\n",
       "       [5, 6]])"
      ]
     },
     "execution_count": 49,
     "metadata": {},
     "output_type": "execute_result"
    }
   ],
   "source": [
    "x = np.array([[1, 2], [3, 4]])\n",
    "y = np.array([[5, 6]])\n",
    "np.concatenate((x,y),axis=0)"
   ]
  },
  {
   "cell_type": "code",
   "execution_count": 45,
   "id": "f0c07aa8",
   "metadata": {},
   "outputs": [
    {
     "data": {
      "text/plain": [
       "array([[[ 2,  2,  3,  4],\n",
       "        [ 5,  7,  8,  8],\n",
       "        [ 3,  9, 12, 80]],\n",
       "\n",
       "       [[ 1, 13, 15, 16],\n",
       "        [ 2,  9, 19, 20],\n",
       "        [ 4, 12, 16, 30]]])"
      ]
     },
     "execution_count": 45,
     "metadata": {},
     "output_type": "execute_result"
    }
   ],
   "source": [
    "multi_dimension_in_sort = np.array([[[2, 2, 3, 4], [5, 8, 7, 8], [9, 80, 3, 12]],\n",
    "                [[13, 1, 15, 16], [9, 2, 19, 20], [30, 12, 16, 4]]])\n",
    "np.sort(multi_dimension_in_sort) #sort value in their own group"
   ]
  },
  {
   "cell_type": "markdown",
   "id": "fe3b3be1",
   "metadata": {},
   "source": [
    "Reshape an Array"
   ]
  },
  {
   "cell_type": "code",
   "execution_count": 51,
   "id": "c58d964b",
   "metadata": {},
   "outputs": [
    {
     "data": {
      "text/plain": [
       "array([[0, 1, 2],\n",
       "       [3, 4, 5]])"
      ]
     },
     "execution_count": 51,
     "metadata": {},
     "output_type": "execute_result"
    }
   ],
   "source": [
    "np.arange(6).reshape(2,3) # Can only be reshape if the size of the specified shape array is the same as the original array"
   ]
  },
  {
   "cell_type": "code",
   "execution_count": 56,
   "id": "bea5ab4b",
   "metadata": {},
   "outputs": [
    {
     "data": {
      "text/plain": [
       "array([[0, 1, 2],\n",
       "       [3, 4, 5]])"
      ]
     },
     "execution_count": 56,
     "metadata": {},
     "output_type": "execute_result"
    }
   ],
   "source": [
    "reshape_array = np.arange(6)\n",
    "np.reshape(reshape_array, newshape=(2,3), order='C') #You can also specify the index order type of the new array. C refers to C-type index order and F refers to Fortran-like index order. C: [0,1,2,3,4], F:[1,2,3,4,5]"
   ]
  }
 ],
 "metadata": {
  "kernelspec": {
   "display_name": "Python 3",
   "language": "python",
   "name": "python3"
  },
  "language_info": {
   "codemirror_mode": {
    "name": "ipython",
    "version": 3
   },
   "file_extension": ".py",
   "mimetype": "text/x-python",
   "name": "python",
   "nbconvert_exporter": "python",
   "pygments_lexer": "ipython3",
   "version": "3.11.4"
  }
 },
 "nbformat": 4,
 "nbformat_minor": 5
}
