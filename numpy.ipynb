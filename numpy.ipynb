{
 "cells": [
  {
   "cell_type": "markdown",
   "id": "b4907549",
   "metadata": {},
   "source": [
    "Numpy\n"
   ]
  },
  {
   "cell_type": "markdown",
   "id": "8d14b8ca",
   "metadata": {},
   "source": [
    "Importing Numpy"
   ]
  },
  {
   "cell_type": "code",
   "execution_count": 2,
   "id": "c97604fe",
   "metadata": {},
   "outputs": [],
   "source": [
    "import numpy as np"
   ]
  },
  {
   "cell_type": "markdown",
   "id": "0a250cb8",
   "metadata": {},
   "source": [
    "Basics of Numpy"
   ]
  },
  {
   "cell_type": "markdown",
   "id": "d66a9057",
   "metadata": {},
   "source": [
    "Arrays"
   ]
  },
  {
   "cell_type": "markdown",
   "id": "ecf2771f",
   "metadata": {
    "slideshow": {
     "slide_type": "notes"
    }
   },
   "source": [
    "Array is a structure for storing and retrieving data. A grid in place, with each cell storing an element.\n"
   ]
  },
  {
   "cell_type": "markdown",
   "id": "f8180316",
   "metadata": {},
   "source": [
    "All elements of the array must be of the same type of data.\n",
    "\n",
    "Once created, the total size of the array can’t change.\n",
    "\n",
    "The shape must be “rectangular”, not “jagged”; e.g., each row of a two-dimensional array must have the same number of columns."
   ]
  },
  {
   "cell_type": "code",
   "execution_count": 9,
   "id": "7cb9c2f6",
   "metadata": {},
   "outputs": [],
   "source": [
    "a = np.array([1, 2, 3, 4, 5, 6]) #creating one-dimensional array"
   ]
  },
  {
   "cell_type": "code",
   "execution_count": 3,
   "id": "2840c611",
   "metadata": {},
   "outputs": [
    {
     "data": {
      "text/plain": [
       "1"
      ]
     },
     "execution_count": 3,
     "metadata": {},
     "output_type": "execute_result"
    }
   ],
   "source": [
    "a[0]"
   ]
  },
  {
   "cell_type": "code",
   "execution_count": 10,
   "id": "69fe8e7f",
   "metadata": {},
   "outputs": [
    {
     "data": {
      "text/plain": [
       "array([10,  2,  3,  4,  5,  6])"
      ]
     },
     "execution_count": 10,
     "metadata": {},
     "output_type": "execute_result"
    }
   ],
   "source": [
    "a[0] = 10\n",
    "a"
   ]
  },
  {
   "cell_type": "markdown",
   "id": "81d03247",
   "metadata": {},
   "source": [
    "all selected data refers to the original array, even if it is saved in other variable"
   ]
  },
  {
   "cell_type": "code",
   "execution_count": 13,
   "id": "8c8a7a04",
   "metadata": {},
   "outputs": [
    {
     "name": "stdout",
     "output_type": "stream",
     "text": [
      "[100   5   6]\n",
      "[ 10   2   3 100   5   6]\n"
     ]
    }
   ],
   "source": [
    "b = a[3:] \n",
    "print(b)\n",
    "b[0] = 100\n",
    "print(a)"
   ]
  },
  {
   "cell_type": "markdown",
   "id": "f64419a7",
   "metadata": {},
   "source": [
    "Two and higher dimensional arrays can be initialized from nested Python sequences"
   ]
  },
  {
   "cell_type": "code",
   "execution_count": 14,
   "id": "57d7c517",
   "metadata": {},
   "outputs": [
    {
     "data": {
      "text/plain": [
       "array([[ 1,  2,  3,  4],\n",
       "       [ 5,  6,  7,  8],\n",
       "       [ 9, 10, 11, 12]])"
      ]
     },
     "execution_count": 14,
     "metadata": {},
     "output_type": "execute_result"
    }
   ],
   "source": [
    "two_dimensional_array = np.array([[1, 2, 3, 4], [5, 6, 7, 8], [9, 10, 11, 12]])\n",
    "two_dimensional_array"
   ]
  },
  {
   "cell_type": "markdown",
   "id": "6233ab58",
   "metadata": {},
   "source": [
    "Selecting data from high dimensional arrays"
   ]
  },
  {
   "cell_type": "code",
   "execution_count": 18,
   "id": "c85d229a",
   "metadata": {},
   "outputs": [
    {
     "data": {
      "text/plain": [
       "12"
      ]
     },
     "execution_count": 18,
     "metadata": {},
     "output_type": "execute_result"
    }
   ],
   "source": [
    "two_dimensional_array[2,3]"
   ]
  },
  {
   "cell_type": "markdown",
   "id": "e3d9c1f5",
   "metadata": {},
   "source": [
    "Array Attribute"
   ]
  },
  {
   "cell_type": "code",
   "execution_count": 19,
   "id": "cd767ad2",
   "metadata": {},
   "outputs": [
    {
     "data": {
      "text/plain": [
       "2"
      ]
     },
     "execution_count": 19,
     "metadata": {},
     "output_type": "execute_result"
    }
   ],
   "source": [
    "two_dimensional_array.ndim #The dimensional level of arrays are contained by the ndim attribute"
   ]
  },
  {
   "cell_type": "code",
   "execution_count": 23,
   "id": "d9db8921",
   "metadata": {},
   "outputs": [
    {
     "name": "stdout",
     "output_type": "stream",
     "text": [
      "(3, 4)\n",
      "(2, 3, 4)\n"
     ]
    }
   ],
   "source": [
    "print(two_dimensional_array.shape) #The shape of an array is the accorded to the number of datas contained in each dimension\n",
    "print(np.array([[[1, 2, 3, 4], [5, 6, 7, 8], [9, 10, 11, 12]],\n",
    "                [[13, 14, 15, 16], [17, 18, 19, 20], [21, 22, 23, 24]]]).shape)\n",
    "#The most outer bracket included 2 second dimension bracket and inside each two dimension bracket there is 3 third dimension bracket and 4 numeric data inside them therefore the shape is (2,3,4)"
   ]
  },
  {
   "cell_type": "code",
   "execution_count": 24,
   "id": "4ad7fc9a",
   "metadata": {},
   "outputs": [
    {
     "data": {
      "text/plain": [
       "12"
      ]
     },
     "execution_count": 24,
     "metadata": {},
     "output_type": "execute_result"
    }
   ],
   "source": [
    "two_dimensional_array.size #The count of most inner data is stored in size, and the size of any created array is fixed"
   ]
  },
  {
   "cell_type": "code",
   "execution_count": 26,
   "id": "8e344dfc",
   "metadata": {},
   "outputs": [
    {
     "data": {
      "text/plain": [
       "True"
      ]
     },
     "execution_count": 26,
     "metadata": {},
     "output_type": "execute_result"
    }
   ],
   "source": [
    "import math\n",
    "two_dimensional_array.size == math.prod(two_dimensional_array.shape) #The size of an array is always equals to the product(multiply) of the numbers of the array's shape."
   ]
  },
  {
   "cell_type": "code",
   "execution_count": 27,
   "id": "cca2a41e",
   "metadata": {},
   "outputs": [
    {
     "data": {
      "text/plain": [
       "dtype('int32')"
      ]
     },
     "execution_count": 27,
     "metadata": {},
     "output_type": "execute_result"
    }
   ],
   "source": [
    "two_dimensional_array.dtype #Arrays are typically \"homogeneous\" meaning that they contain element of only one datatype"
   ]
  },
  {
   "cell_type": "markdown",
   "id": "f479df02",
   "metadata": {},
   "source": [
    "Create Basic Arrays"
   ]
  },
  {
   "cell_type": "code",
   "execution_count": 28,
   "id": "5bb30e84",
   "metadata": {},
   "outputs": [
    {
     "data": {
      "text/plain": [
       "array([0., 0.])"
      ]
     },
     "execution_count": 28,
     "metadata": {},
     "output_type": "execute_result"
    }
   ],
   "source": [
    "np.zeros(2) #Create an array that containes all zero value"
   ]
  },
  {
   "cell_type": "code",
   "execution_count": 30,
   "id": "8348b701",
   "metadata": {},
   "outputs": [
    {
     "data": {
      "text/plain": [
       "array([[1., 1.],\n",
       "       [1., 1.]])"
      ]
     },
     "execution_count": 30,
     "metadata": {},
     "output_type": "execute_result"
    }
   ],
   "source": [
    "np.ones(shape = (2,2)) #Create an array that containes all one value"
   ]
  },
  {
   "cell_type": "code",
   "execution_count": null,
   "id": "66cfc8c8",
   "metadata": {},
   "outputs": [],
   "source": [
    "np.empty(2) #The function empty creates an array whose initial content is random and depends on the state of the memory. \n",
    "#The reason to use empty over zeros (or something similar) is speed - just make sure to fill every element afterwards!"
   ]
  },
  {
   "cell_type": "code",
   "execution_count": 33,
   "id": "1b6633d6",
   "metadata": {},
   "outputs": [
    {
     "data": {
      "text/plain": [
       "array([0, 1, 2, 3])"
      ]
     },
     "execution_count": 33,
     "metadata": {},
     "output_type": "execute_result"
    }
   ],
   "source": [
    "np.arange(4) #Range function but in array form"
   ]
  },
  {
   "cell_type": "code",
   "execution_count": 34,
   "id": "8ffceff9",
   "metadata": {},
   "outputs": [
    {
     "data": {
      "text/plain": [
       "array([2, 4, 6, 8])"
      ]
     },
     "execution_count": 34,
     "metadata": {},
     "output_type": "execute_result"
    }
   ],
   "source": [
    "np.arange(2,9,2) #Start, stop and step can be used in arange too"
   ]
  },
  {
   "cell_type": "code",
   "execution_count": 37,
   "id": "a64967f1",
   "metadata": {},
   "outputs": [
    {
     "data": {
      "text/plain": [
       "array([ 0. ,  2.5,  5. ,  7.5, 10. ])"
      ]
     },
     "execution_count": 37,
     "metadata": {},
     "output_type": "execute_result"
    }
   ],
   "source": [
    "np.linspace(0,10, num=5) #np.linspace() to create an array with values that are spaced linearly in a specified interval, num is to specify the count of numbers inclued"
   ]
  },
  {
   "cell_type": "code",
   "execution_count": 38,
   "id": "d499d86b",
   "metadata": {},
   "outputs": [
    {
     "data": {
      "text/plain": [
       "array(['1', '1'], dtype='<U1')"
      ]
     },
     "execution_count": 38,
     "metadata": {},
     "output_type": "execute_result"
    }
   ],
   "source": [
    "x = np.ones(2, dtype=np.str0) # While the default data type is floating point (np.float64), you can explicitly specify which data type you want using the dtype keyword.\n",
    "x"
   ]
  },
  {
   "cell_type": "markdown",
   "id": "9edb5def",
   "metadata": {},
   "source": [
    "Adding, Removing, and Sorting Elements"
   ]
  },
  {
   "cell_type": "code",
   "execution_count": 41,
   "id": "3c65816e",
   "metadata": {},
   "outputs": [
    {
     "data": {
      "text/plain": [
       "array([1, 2, 3, 4, 5, 6, 7, 8])"
      ]
     },
     "execution_count": 41,
     "metadata": {},
     "output_type": "execute_result"
    }
   ],
   "source": [
    "arr = np.array([2, 1, 5, 3, 7, 4, 6, 8]) #array used in this section\n",
    "np.sort(arr) #sort values in ascending order"
   ]
  },
  {
   "cell_type": "code",
   "execution_count": 42,
   "id": "3525a394",
   "metadata": {},
   "outputs": [
    {
     "data": {
      "text/plain": [
       "array([1, 2, 3, 4, 5, 6, 7, 8])"
      ]
     },
     "execution_count": 42,
     "metadata": {},
     "output_type": "execute_result"
    }
   ],
   "source": [
    "a = np.array([1, 2, 3, 4])\n",
    "b = np.array([5, 6, 7, 8])\n",
    "np.concatenate((a, b)) #Group two arrays"
   ]
  },
  {
   "cell_type": "code",
   "execution_count": 49,
   "id": "be4cb524",
   "metadata": {},
   "outputs": [
    {
     "data": {
      "text/plain": [
       "array([[1, 2],\n",
       "       [3, 4],\n",
       "       [5, 6]])"
      ]
     },
     "execution_count": 49,
     "metadata": {},
     "output_type": "execute_result"
    }
   ],
   "source": [
    "x = np.array([[1, 2], [3, 4]])\n",
    "y = np.array([[5, 6]])\n",
    "np.concatenate((x,y),axis=0)"
   ]
  },
  {
   "cell_type": "code",
   "execution_count": 45,
   "id": "f0c07aa8",
   "metadata": {},
   "outputs": [
    {
     "data": {
      "text/plain": [
       "array([[[ 2,  2,  3,  4],\n",
       "        [ 5,  7,  8,  8],\n",
       "        [ 3,  9, 12, 80]],\n",
       "\n",
       "       [[ 1, 13, 15, 16],\n",
       "        [ 2,  9, 19, 20],\n",
       "        [ 4, 12, 16, 30]]])"
      ]
     },
     "execution_count": 45,
     "metadata": {},
     "output_type": "execute_result"
    }
   ],
   "source": [
    "multi_dimension_in_sort = np.array([[[2, 2, 3, 4], [5, 8, 7, 8], [9, 80, 3, 12]],\n",
    "                [[13, 1, 15, 16], [9, 2, 19, 20], [30, 12, 16, 4]]])\n",
    "np.sort(multi_dimension_in_sort) #sort value in their own group"
   ]
  },
  {
   "cell_type": "markdown",
   "id": "fe3b3be1",
   "metadata": {},
   "source": [
    "Reshape an Array"
   ]
  },
  {
   "cell_type": "code",
   "execution_count": 51,
   "id": "c58d964b",
   "metadata": {},
   "outputs": [
    {
     "data": {
      "text/plain": [
       "array([[0, 1, 2],\n",
       "       [3, 4, 5]])"
      ]
     },
     "execution_count": 51,
     "metadata": {},
     "output_type": "execute_result"
    }
   ],
   "source": [
    "np.arange(6).reshape(2,3) # Can only be reshape if the size of the specified shape array is the same as the original array"
   ]
  },
  {
   "cell_type": "code",
   "execution_count": 56,
   "id": "bea5ab4b",
   "metadata": {},
   "outputs": [
    {
     "data": {
      "text/plain": [
       "array([[0, 1, 2],\n",
       "       [3, 4, 5]])"
      ]
     },
     "execution_count": 56,
     "metadata": {},
     "output_type": "execute_result"
    }
   ],
   "source": [
    "reshape_array = np.arange(6)\n",
    "np.reshape(reshape_array, newshape=(2,3), order='C') #You can also specify the index order type of the new array. C refers to C-type index order and F refers to Fortran-like index order. C: [0,1,2,3,4], F:[1,2,3,4,5]"
   ]
  },
  {
   "cell_type": "markdown",
   "id": "2ddbf488",
   "metadata": {},
   "source": [
    "Convert 1D array to 2D array"
   ]
  },
  {
   "cell_type": "code",
   "execution_count": 9,
   "id": "042d3d5a",
   "metadata": {},
   "outputs": [
    {
     "data": {
      "text/plain": [
       "array([1, 2, 3, 4, 5, 6])"
      ]
     },
     "execution_count": 9,
     "metadata": {},
     "output_type": "execute_result"
    }
   ],
   "source": [
    "con = np.array([1,2,3,4,5,6])\n",
    "con.shape"
   ]
  },
  {
   "cell_type": "code",
   "execution_count": 4,
   "id": "a46a1ed9",
   "metadata": {},
   "outputs": [
    {
     "data": {
      "text/plain": [
       "(1, 6)"
      ]
     },
     "execution_count": 4,
     "metadata": {},
     "output_type": "execute_result"
    }
   ],
   "source": [
    "con2 = con[np.newaxis, :] #adding a new axis to the array\n",
    "con2.shape"
   ]
  },
  {
   "cell_type": "code",
   "execution_count": 6,
   "id": "75e9576e",
   "metadata": {},
   "outputs": [
    {
     "data": {
      "text/plain": [
       "(1, 6)"
      ]
     },
     "execution_count": 6,
     "metadata": {},
     "output_type": "execute_result"
    }
   ],
   "source": [
    "row_vector = con[np.newaxis, :]\n",
    "row_vector.shape"
   ]
  },
  {
   "cell_type": "code",
   "execution_count": 10,
   "id": "51770931",
   "metadata": {},
   "outputs": [
    {
     "data": {
      "text/plain": [
       "(6, 1)"
      ]
     },
     "execution_count": 10,
     "metadata": {},
     "output_type": "execute_result"
    }
   ],
   "source": [
    "column_vector = con[:,np.newaxis]\n",
    "column_vector.shape"
   ]
  },
  {
   "cell_type": "code",
   "execution_count": 12,
   "id": "04efc128",
   "metadata": {},
   "outputs": [
    {
     "data": {
      "text/plain": [
       "(6,)"
      ]
     },
     "execution_count": 12,
     "metadata": {},
     "output_type": "execute_result"
    }
   ],
   "source": [
    "new_dimension = np.arange(1,7)\n",
    "new_dimension.shape"
   ]
  },
  {
   "cell_type": "code",
   "execution_count": 15,
   "id": "fc2c4b41",
   "metadata": {},
   "outputs": [
    {
     "data": {
      "text/plain": [
       "(6,)"
      ]
     },
     "execution_count": 15,
     "metadata": {},
     "output_type": "execute_result"
    }
   ],
   "source": [
    "new_dimension1 = np.expand_dims(new_dimension, axis=1)\n",
    "new_dimension.shape"
   ]
  },
  {
   "cell_type": "code",
   "execution_count": 16,
   "id": "00ad5615",
   "metadata": {},
   "outputs": [
    {
     "data": {
      "text/plain": [
       "(1, 6)"
      ]
     },
     "execution_count": 16,
     "metadata": {},
     "output_type": "execute_result"
    }
   ],
   "source": [
    "new_dimension2 = np.expand_dims(new_dimension, axis=0)\n",
    "new_dimension2.shape"
   ]
  },
  {
   "cell_type": "markdown",
   "id": "c3be3bfe",
   "metadata": {},
   "source": [
    "Indexing and Slicing"
   ]
  },
  {
   "cell_type": "code",
   "execution_count": 17,
   "id": "6e32fad7",
   "metadata": {},
   "outputs": [
    {
     "data": {
      "text/plain": [
       "array([[ 1,  2,  3,  4],\n",
       "       [ 5,  6,  7,  8],\n",
       "       [ 9, 10, 11, 12]])"
      ]
     },
     "execution_count": 17,
     "metadata": {},
     "output_type": "execute_result"
    }
   ],
   "source": [
    "slicing = np.array([[1 , 2, 3, 4], [5, 6, 7, 8], [9, 10, 11, 12]])\n",
    "slicing"
   ]
  },
  {
   "cell_type": "code",
   "execution_count": 19,
   "id": "2d82809e",
   "metadata": {},
   "outputs": [
    {
     "data": {
      "text/plain": [
       "array([1, 2, 3, 4])"
      ]
     },
     "execution_count": 19,
     "metadata": {},
     "output_type": "execute_result"
    }
   ],
   "source": [
    "slicing[slicing<5]"
   ]
  },
  {
   "cell_type": "code",
   "execution_count": 22,
   "id": "059b05d0",
   "metadata": {},
   "outputs": [
    {
     "data": {
      "text/plain": [
       "array([ 5,  6,  7,  8,  9, 10, 11, 12])"
      ]
     },
     "execution_count": 22,
     "metadata": {},
     "output_type": "execute_result"
    }
   ],
   "source": [
    "five_up = (slicing>=5)\n",
    "slicing[five_up]"
   ]
  },
  {
   "cell_type": "code",
   "execution_count": 27,
   "id": "266a93a3",
   "metadata": {},
   "outputs": [
    {
     "data": {
      "text/plain": [
       "array([ 3,  4,  5,  6,  7,  8,  9, 10,  1,  2,  3,  4,  5,  6,  7,  8,  9,\n",
       "       10, 11, 12])"
      ]
     },
     "execution_count": 27,
     "metadata": {},
     "output_type": "execute_result"
    }
   ],
   "source": [
    "np.concatenate((slicing[(slicing>2)&(slicing<11)],slicing[(slicing>=2)|(slicing<=11)])) #logical operator is replaced by &(and) or |(or)"
   ]
  },
  {
   "cell_type": "code",
   "execution_count": 29,
   "id": "16718510",
   "metadata": {},
   "outputs": [
    {
     "name": "stdout",
     "output_type": "stream",
     "text": [
      "[[False False False False]\n",
      " [ True  True  True  True]\n",
      " [ True  True  True  True]]\n"
     ]
    }
   ],
   "source": [
    "five_up = (slicing > 5) | (slicing == 5) #Can be used to return boolean values\n",
    "print(five_up)"
   ]
  },
  {
   "cell_type": "code",
   "execution_count": 31,
   "id": "094912e1",
   "metadata": {},
   "outputs": [
    {
     "name": "stdout",
     "output_type": "stream",
     "text": [
      "(array([1, 1, 1, 2, 2, 2, 2], dtype=int64), array([1, 2, 3, 0, 1, 2, 3], dtype=int64))\n"
     ]
    }
   ],
   "source": [
    "slicing_non_zero = np.nonzero(slicing>5) #return 1*dimension number array and each array refers to the corresponding dimension's index.\n",
    "print(slicing_non_zero)\n",
    "#using the above code as example the index place of non-zero value is [1,1], [1,2], [1,3], [2,0], [2,1], [2,2], [2,3]"
   ]
  },
  {
   "cell_type": "markdown",
   "id": "ff72ee36",
   "metadata": {},
   "source": [
    "Creating Array from Existing Data"
   ]
  },
  {
   "cell_type": "code",
   "execution_count": 32,
   "id": "e3301d7f",
   "metadata": {},
   "outputs": [
    {
     "data": {
      "text/plain": [
       "array([ 1,  2,  3,  4,  5,  6,  7,  8,  9, 10])"
      ]
     },
     "execution_count": 32,
     "metadata": {},
     "output_type": "execute_result"
    }
   ],
   "source": [
    "existing_data = np.arange(1,11)\n",
    "existing_data"
   ]
  },
  {
   "cell_type": "code",
   "execution_count": 33,
   "id": "94a487c9",
   "metadata": {},
   "outputs": [
    {
     "data": {
      "text/plain": [
       "array([4, 5, 6, 7, 8])"
      ]
     },
     "execution_count": 33,
     "metadata": {},
     "output_type": "execute_result"
    }
   ],
   "source": [
    "new1 = existing_data[3:8] # You can create new array by slicing existing array\n",
    "new1"
   ]
  },
  {
   "cell_type": "code",
   "execution_count": 34,
   "id": "1b440cf4",
   "metadata": {},
   "outputs": [
    {
     "data": {
      "text/plain": [
       "array([[1, 1],\n",
       "       [2, 2],\n",
       "       [3, 3],\n",
       "       [4, 4]])"
      ]
     },
     "execution_count": 34,
     "metadata": {},
     "output_type": "execute_result"
    }
   ],
   "source": [
    "a1 = np.array([[1, 1],\n",
    "               [2, 2]])\n",
    "\n",
    "a2 = np.array([[3, 3],\n",
    "               [4, 4]])\n",
    "np.vstack((a1, a2)) #stack two array vertically"
   ]
  },
  {
   "cell_type": "code",
   "execution_count": 35,
   "id": "43696707",
   "metadata": {},
   "outputs": [
    {
     "data": {
      "text/plain": [
       "array([[1, 1, 3, 3],\n",
       "       [2, 2, 4, 4]])"
      ]
     },
     "execution_count": 35,
     "metadata": {},
     "output_type": "execute_result"
    }
   ],
   "source": [
    "np.hstack((a1,a2))"
   ]
  },
  {
   "cell_type": "code",
   "execution_count": null,
   "id": "49362517",
   "metadata": {},
   "outputs": [],
   "source": [
    "x = np.arange(1, 25).reshape(2, 12)\n",
    "x"
   ]
  },
  {
   "cell_type": "code",
   "execution_count": null,
   "id": "281cb601",
   "metadata": {},
   "outputs": [],
   "source": [
    "np.hsplit(x, 3) # Split this array into three equally shaped arrays"
   ]
  },
  {
   "cell_type": "code",
   "execution_count": null,
   "id": "9fd27c0e",
   "metadata": {},
   "outputs": [],
   "source": [
    "np.hsplit(x, (3,4)) # Split column from 1-3, 4 and the rest"
   ]
  },
  {
   "cell_type": "markdown",
   "id": "d5791961",
   "metadata": {},
   "source": [
    "Basic array operations"
   ]
  },
  {
   "cell_type": "code",
   "execution_count": 47,
   "id": "74ef2d33",
   "metadata": {},
   "outputs": [
    {
     "data": {
      "text/plain": [
       "(array([1, 2]), array([1, 1]))"
      ]
     },
     "execution_count": 47,
     "metadata": {},
     "output_type": "execute_result"
    }
   ],
   "source": [
    "a = np.array([1,2])\n",
    "b = np.ones(2, dtype=int)\n",
    "a,b"
   ]
  },
  {
   "cell_type": "code",
   "execution_count": 43,
   "id": "94f2ae5d",
   "metadata": {},
   "outputs": [
    {
     "name": "stdout",
     "output_type": "stream",
     "text": [
      "[2 3]\n",
      "[0 1]\n",
      "[1 4]\n",
      "[1. 1.]\n"
     ]
    }
   ],
   "source": [
    "print(a+b) #(1+1), (2+1)\n",
    "print(a-b) #(1-1), (2-1)\n",
    "print(a*a) #(1*1), (2*2)\n",
    "print(a/a) #(1/1), (2/1) "
   ]
  },
  {
   "cell_type": "code",
   "execution_count": 45,
   "id": "ad76fd93",
   "metadata": {},
   "outputs": [
    {
     "data": {
      "text/plain": [
       "10"
      ]
     },
     "execution_count": 45,
     "metadata": {},
     "output_type": "execute_result"
    }
   ],
   "source": [
    "a = np.array([1,2,3,4])\n",
    "a.sum() #to find the sum of all the value in array, works for higher dimensional array too"
   ]
  },
  {
   "cell_type": "code",
   "execution_count": 48,
   "id": "2599e1ef",
   "metadata": {},
   "outputs": [
    {
     "data": {
      "text/plain": [
       "array([1.6, 3.2])"
      ]
     },
     "execution_count": 48,
     "metadata": {},
     "output_type": "execute_result"
    }
   ],
   "source": [
    "a * 1.6 # Broadcasting, operation between an array and a single number"
   ]
  },
  {
   "cell_type": "markdown",
   "id": "1858b8e9",
   "metadata": {},
   "source": [
    "More Operations"
   ]
  },
  {
   "cell_type": "code",
   "execution_count": 49,
   "id": "633f0e8e",
   "metadata": {},
   "outputs": [
    {
     "name": "stdout",
     "output_type": "stream",
     "text": [
      "10\n",
      "1\n",
      "55\n",
      "5.5\n",
      "3628800\n",
      "2.8722813232690143\n"
     ]
    }
   ],
   "source": [
    "a = np.array([1,2,3,4,5,6,7,8,9,10])\n",
    "print(a.max()) # Maximum Value\n",
    "print(a.min()) # Minimum Value\n",
    "print(a.sum()) # Sum of all Value\n",
    "print(a.mean()) # Average of all value\n",
    "print(a.prod()) # Result of Multiplying the Value\n",
    "print(a.std()) #Standard Deviation"
   ]
  },
  {
   "cell_type": "code",
   "execution_count": 51,
   "id": "bfec0c88",
   "metadata": {},
   "outputs": [
    {
     "data": {
      "text/plain": [
       "array([[2, 3],\n",
       "       [4, 5],\n",
       "       [6, 7]])"
      ]
     },
     "execution_count": 51,
     "metadata": {},
     "output_type": "execute_result"
    }
   ],
   "source": [
    "data = np.array([[1, 2], [3, 4], [5, 6]])\n",
    "ones = np.array([1, 1]) \n",
    "data + ones"
   ]
  },
  {
   "cell_type": "markdown",
   "id": "7b34470c",
   "metadata": {},
   "source": [
    "Generate Numbers"
   ]
  },
  {
   "cell_type": "code",
   "execution_count": 56,
   "id": "fc490ac1",
   "metadata": {},
   "outputs": [
    {
     "data": {
      "text/plain": [
       "array([0.08656445, 0.73571058, 0.79640257])"
      ]
     },
     "execution_count": 56,
     "metadata": {},
     "output_type": "execute_result"
    }
   ],
   "source": [
    "rng = np.random.default_rng()  # the simplest way to generate random numbers\n",
    "rng.random(3)"
   ]
  },
  {
   "cell_type": "code",
   "execution_count": 57,
   "id": "4ccff6cf",
   "metadata": {},
   "outputs": [
    {
     "data": {
      "text/plain": [
       "array([[4, 3, 0, 1],\n",
       "       [3, 3, 0, 3]], dtype=int64)"
      ]
     },
     "execution_count": 57,
     "metadata": {},
     "output_type": "execute_result"
    }
   ],
   "source": [
    "rng.integers(5, size=(2, 4)) "
   ]
  },
  {
   "cell_type": "markdown",
   "id": "16b84dca",
   "metadata": {},
   "source": [
    "Get Unique Items and Count"
   ]
  },
  {
   "cell_type": "code",
   "execution_count": 58,
   "id": "9d63533e",
   "metadata": {},
   "outputs": [
    {
     "name": "stdout",
     "output_type": "stream",
     "text": [
      "[11 12 13 14 15 16 17 18 19 20]\n",
      "[ 0  2  3  4  5  6  7 12 13 14]\n"
     ]
    }
   ],
   "source": [
    "a = np.array([11, 11, 12, 13, 14, 15, 16, 17, 12, 13, 11, 14, 18, 19, 20])\n",
    "unique_values = np.unique(a) # Return an Array Containing only Non-Repeating Value \n",
    "print(unique_values)\n",
    "unique_values, indices_list = np.unique(a, return_index=True) # Returning the Array and Index of Them in the Original List\n",
    "print(indices_list)\n",
    "unique_values, occurrence_count = np.unique(a, return_counts=True) # Returning the Array and Occurent Count\n",
    "print(occurrence_count)"
   ]
  },
  {
   "cell_type": "code",
   "execution_count": 59,
   "id": "9f2be553",
   "metadata": {},
   "outputs": [
    {
     "name": "stdout",
     "output_type": "stream",
     "text": [
      "[ 1  2  3  4  5  6  7  8  9 10 11 12]\n",
      "[[ 1  2  3  4]\n",
      " [ 5  6  7  8]\n",
      " [ 9 10 11 12]]\n"
     ]
    }
   ],
   "source": [
    "a_2d = np.array([[1, 2, 3, 4], [5, 6, 7, 8], [9, 10, 11, 12], [1, 2, 3, 4]])\n",
    "unique_values = np.unique(a_2d) # Works with 2D arrays too  \n",
    "print(unique_values)\n",
    "unique_rows = np.unique(a_2d, axis=0) # When axis is specified the array will not be flatten\n",
    "print(unique_rows)"
   ]
  },
  {
   "cell_type": "markdown",
   "id": "caf77482",
   "metadata": {},
   "source": [
    "Transpose an Array"
   ]
  },
  {
   "cell_type": "code",
   "execution_count": 60,
   "id": "f65ae028",
   "metadata": {},
   "outputs": [
    {
     "name": "stdout",
     "output_type": "stream",
     "text": [
      "[[0 1 2]\n",
      " [3 4 5]]\n",
      "[[0 3]\n",
      " [1 4]\n",
      " [2 5]]\n",
      "[[0 3]\n",
      " [1 4]\n",
      " [2 5]]\n"
     ]
    }
   ],
   "source": [
    "arr = np.arange(6).reshape((2, 3))\n",
    "print(arr)\n",
    "print(arr.transpose()) # To reverse the shape\n",
    "print(arr.T) # Short form of transpose"
   ]
  },
  {
   "cell_type": "markdown",
   "id": "e0067e30",
   "metadata": {},
   "source": [
    "Reverse an Array"
   ]
  },
  {
   "cell_type": "code",
   "execution_count": 62,
   "id": "63f127b1",
   "metadata": {},
   "outputs": [
    {
     "data": {
      "text/plain": [
       "array([8, 7, 6, 5, 4, 3, 2, 1])"
      ]
     },
     "execution_count": 62,
     "metadata": {},
     "output_type": "execute_result"
    }
   ],
   "source": [
    "arr = np.array([1, 2, 3, 4, 5, 6, 7, 8])\n",
    "reversed_arr = np.flip(arr)\n",
    "reversed_arr"
   ]
  },
  {
   "cell_type": "code",
   "execution_count": 63,
   "id": "0dd92e07",
   "metadata": {},
   "outputs": [
    {
     "data": {
      "text/plain": [
       "array([[12, 11, 10,  9],\n",
       "       [ 8,  7,  6,  5],\n",
       "       [ 4,  3,  2,  1]])"
      ]
     },
     "execution_count": 63,
     "metadata": {},
     "output_type": "execute_result"
    }
   ],
   "source": [
    "arr_2d = np.array([[1, 2, 3, 4], [5, 6, 7, 8], [9, 10, 11, 12]])\n",
    "reversed_arr = np.flip(arr_2d) \n",
    "reversed_arr"
   ]
  },
  {
   "cell_type": "code",
   "execution_count": null,
   "id": "2e9cb14f",
   "metadata": {},
   "outputs": [],
   "source": [
    "reversed_arr_rows = np.flip(arr_2d, axis=0) # Reverse only the rows\n",
    "reversed_arr_rows"
   ]
  },
  {
   "cell_type": "code",
   "execution_count": null,
   "id": "0228c36d",
   "metadata": {},
   "outputs": [],
   "source": [
    "reversed_arr_column = np.flip(arr_2d, axis=1) # Reverse only the columns\n",
    "print(reversed_arr_column)"
   ]
  },
  {
   "cell_type": "code",
   "execution_count": 64,
   "id": "c29810c1",
   "metadata": {},
   "outputs": [
    {
     "data": {
      "text/plain": [
       "array([[ 1,  2,  3,  4],\n",
       "       [ 8,  7,  6,  5],\n",
       "       [ 9, 10, 11, 12]])"
      ]
     },
     "execution_count": 64,
     "metadata": {},
     "output_type": "execute_result"
    }
   ],
   "source": [
    "arr_2d[1] = np.flip(arr_2d[1]) # Specify the row to reverse\n",
    "arr_2d"
   ]
  },
  {
   "cell_type": "code",
   "execution_count": null,
   "id": "367f1149",
   "metadata": {},
   "outputs": [],
   "source": [
    "arr_2d[:,1] = np.flip(arr_2d[:,1]) # Specify the column to reverse\n",
    "arr_2d"
   ]
  },
  {
   "cell_type": "markdown",
   "id": "725e24a7",
   "metadata": {},
   "source": [
    "Reshaping and flattening multidimensional arrays"
   ]
  },
  {
   "cell_type": "code",
   "execution_count": 3,
   "id": "19d5a4a8",
   "metadata": {},
   "outputs": [
    {
     "data": {
      "text/plain": [
       "array([[ 1,  2,  3,  4],\n",
       "       [ 5,  6,  7,  8],\n",
       "       [ 9, 10, 11, 12]])"
      ]
     },
     "execution_count": 3,
     "metadata": {},
     "output_type": "execute_result"
    }
   ],
   "source": [
    "x = np.array([[1 , 2, 3, 4], [5, 6, 7, 8], [9, 10, 11, 12]])\n",
    "x"
   ]
  },
  {
   "cell_type": "code",
   "execution_count": 4,
   "id": "fa8bb8ce",
   "metadata": {},
   "outputs": [
    {
     "data": {
      "text/plain": [
       "array([ 1,  2,  3,  4,  5,  6,  7,  8,  9, 10, 11, 12])"
      ]
     },
     "execution_count": 4,
     "metadata": {},
     "output_type": "execute_result"
    }
   ],
   "source": [
    "x.flatten() #Flatten the array"
   ]
  },
  {
   "cell_type": "code",
   "execution_count": 5,
   "id": "29d5bedd",
   "metadata": {},
   "outputs": [
    {
     "name": "stdout",
     "output_type": "stream",
     "text": [
      "[99  2  3  4  5  6  7  8  9 10 11 12]\n",
      "[[ 1  2  3  4]\n",
      " [ 5  6  7  8]\n",
      " [ 9 10 11 12]]\n"
     ]
    }
   ],
   "source": [
    "# Flattened array saved in a new variable wont be linked\n",
    "f1 = x.flatten()\n",
    "f1[0] = 99\n",
    "print(f1)\n",
    "print(x)"
   ]
  },
  {
   "cell_type": "code",
   "execution_count": 6,
   "id": "2433d4ca",
   "metadata": {},
   "outputs": [
    {
     "name": "stdout",
     "output_type": "stream",
     "text": [
      "[98  2  3  4  5  6  7  8  9 10 11 12]\n",
      "[[98  2  3  4]\n",
      " [ 5  6  7  8]\n",
      " [ 9 10 11 12]]\n"
     ]
    }
   ],
   "source": [
    "# Using Ravel will do the same as flatten but will affect the original array for any changes\n",
    "f2 = x.ravel()\n",
    "f2[0] = 98\n",
    "print(f2)\n",
    "print(x)"
   ]
  },
  {
   "cell_type": "markdown",
   "id": "a610f214",
   "metadata": {},
   "source": [
    "Access to docstring"
   ]
  },
  {
   "cell_type": "code",
   "execution_count": 10,
   "id": "74f8f0b7",
   "metadata": {},
   "outputs": [
    {
     "name": "stdout",
     "output_type": "stream",
     "text": [
      "Help on built-in function max in module builtins:\n",
      "\n",
      "max(...)\n",
      "    max(iterable, *[, default=obj, key=func]) -> value\n",
      "    max(arg1, arg2, *args, *[, key=func]) -> value\n",
      "    \n",
      "    With a single iterable argument, return its biggest item. The\n",
      "    default keyword-only argument specifies an object to return if\n",
      "    the provided iterable is empty.\n",
      "    With two or more arguments, return the largest argument.\n",
      "\n"
     ]
    }
   ],
   "source": [
    "#Use Help()\n",
    "help(max)"
   ]
  },
  {
   "cell_type": "code",
   "execution_count": 11,
   "id": "131a7da6",
   "metadata": {},
   "outputs": [
    {
     "name": "stdout",
     "output_type": "stream",
     "text": [
      "\u001b[1;31mDocstring:\u001b[0m\n",
      "max(iterable, *[, default=obj, key=func]) -> value\n",
      "max(arg1, arg2, *args, *[, key=func]) -> value\n",
      "\n",
      "With a single iterable argument, return its biggest item. The\n",
      "default keyword-only argument specifies an object to return if\n",
      "the provided iterable is empty.\n",
      "With two or more arguments, return the largest argument.\n",
      "\u001b[1;31mType:\u001b[0m      builtin_function_or_method"
     ]
    }
   ],
   "source": [
    "# ? is a short form of help\n",
    "max?"
   ]
  },
  {
   "cell_type": "code",
   "execution_count": 12,
   "id": "7b14afb8",
   "metadata": {},
   "outputs": [
    {
     "name": "stdout",
     "output_type": "stream",
     "text": [
      "\u001b[1;31mType:\u001b[0m        ndarray\n",
      "\u001b[1;31mString form:\u001b[0m [1 2 3 4 5 6]\n",
      "\u001b[1;31mLength:\u001b[0m      6\n",
      "\u001b[1;31mFile:\u001b[0m        c:\\users\\user\\appdata\\local\\programs\\python\\python311\\lib\\site-packages\\numpy\\__init__.py\n",
      "\u001b[1;31mDocstring:\u001b[0m  \n",
      "ndarray(shape, dtype=float, buffer=None, offset=0,\n",
      "        strides=None, order=None)\n",
      "\n",
      "An array object represents a multidimensional, homogeneous array\n",
      "of fixed-size items.  An associated data-type object describes the\n",
      "format of each element in the array (its byte-order, how many bytes it\n",
      "occupies in memory, whether it is an integer, a floating point number,\n",
      "or something else, etc.)\n",
      "\n",
      "Arrays should be constructed using `array`, `zeros` or `empty` (refer\n",
      "to the See Also section below).  The parameters given here refer to\n",
      "a low-level method (`ndarray(...)`) for instantiating an array.\n",
      "\n",
      "For more information, refer to the `numpy` module and examine the\n",
      "methods and attributes of an array.\n",
      "\n",
      "Parameters\n",
      "----------\n",
      "(for the __new__ method; see Notes below)\n",
      "\n",
      "shape : tuple of ints\n",
      "    Shape of created array.\n",
      "dtype : data-type, optional\n",
      "    Any object that can be interpreted as a numpy data type.\n",
      "buffer : object exposing buffer interface, optional\n",
      "    Used to fill the array with data.\n",
      "offset : int, optional\n",
      "    Offset of array data in buffer.\n",
      "strides : tuple of ints, optional\n",
      "    Strides of data in memory.\n",
      "order : {'C', 'F'}, optional\n",
      "    Row-major (C-style) or column-major (Fortran-style) order.\n",
      "\n",
      "Attributes\n",
      "----------\n",
      "T : ndarray\n",
      "    Transpose of the array.\n",
      "data : buffer\n",
      "    The array's elements, in memory.\n",
      "dtype : dtype object\n",
      "    Describes the format of the elements in the array.\n",
      "flags : dict\n",
      "    Dictionary containing information related to memory use, e.g.,\n",
      "    'C_CONTIGUOUS', 'OWNDATA', 'WRITEABLE', etc.\n",
      "flat : numpy.flatiter object\n",
      "    Flattened version of the array as an iterator.  The iterator\n",
      "    allows assignments, e.g., ``x.flat = 3`` (See `ndarray.flat` for\n",
      "    assignment examples; TODO).\n",
      "imag : ndarray\n",
      "    Imaginary part of the array.\n",
      "real : ndarray\n",
      "    Real part of the array.\n",
      "size : int\n",
      "    Number of elements in the array.\n",
      "itemsize : int\n",
      "    The memory use of each array element in bytes.\n",
      "nbytes : int\n",
      "    The total number of bytes required to store the array data,\n",
      "    i.e., ``itemsize * size``.\n",
      "ndim : int\n",
      "    The array's number of dimensions.\n",
      "shape : tuple of ints\n",
      "    Shape of the array.\n",
      "strides : tuple of ints\n",
      "    The step-size required to move from one element to the next in\n",
      "    memory. For example, a contiguous ``(3, 4)`` array of type\n",
      "    ``int16`` in C-order has strides ``(8, 2)``.  This implies that\n",
      "    to move from element to element in memory requires jumps of 2 bytes.\n",
      "    To move from row-to-row, one needs to jump 8 bytes at a time\n",
      "    (``2 * 4``).\n",
      "ctypes : ctypes object\n",
      "    Class containing properties of the array needed for interaction\n",
      "    with ctypes.\n",
      "base : ndarray\n",
      "    If the array is a view into another array, that array is its `base`\n",
      "    (unless that array is also a view).  The `base` array is where the\n",
      "    array data is actually stored.\n",
      "\n",
      "See Also\n",
      "--------\n",
      "array : Construct an array.\n",
      "zeros : Create an array, each element of which is zero.\n",
      "empty : Create an array, but leave its allocated memory unchanged (i.e.,\n",
      "        it contains \"garbage\").\n",
      "dtype : Create a data-type.\n",
      "numpy.typing.NDArray : An ndarray alias :term:`generic <generic type>`\n",
      "                       w.r.t. its `dtype.type <numpy.dtype.type>`.\n",
      "\n",
      "Notes\n",
      "-----\n",
      "There are two modes of creating an array using ``__new__``:\n",
      "\n",
      "1. If `buffer` is None, then only `shape`, `dtype`, and `order`\n",
      "   are used.\n",
      "2. If `buffer` is an object exposing the buffer interface, then\n",
      "   all keywords are interpreted.\n",
      "\n",
      "No ``__init__`` method is needed because the array is fully initialized\n",
      "after the ``__new__`` method.\n",
      "\n",
      "Examples\n",
      "--------\n",
      "These examples illustrate the low-level `ndarray` constructor.  Refer\n",
      "to the `See Also` section above for easier ways of constructing an\n",
      "ndarray.\n",
      "\n",
      "First mode, `buffer` is None:\n",
      "\n",
      ">>> np.ndarray(shape=(2,2), dtype=float, order='F')\n",
      "array([[0.0e+000, 0.0e+000], # random\n",
      "       [     nan, 2.5e-323]])\n",
      "\n",
      "Second mode:\n",
      "\n",
      ">>> np.ndarray((2,), buffer=np.array([1,2,3]),\n",
      "...            offset=np.int_().itemsize,\n",
      "...            dtype=int) # offset = 1*itemsize, i.e. skip first element\n",
      "array([2, 3])"
     ]
    }
   ],
   "source": [
    "#Can be used in even object itself\n",
    "a = np.array([1, 2, 3, 4, 5, 6])\n",
    "a?"
   ]
  },
  {
   "cell_type": "code",
   "execution_count": 13,
   "id": "61c2eda7",
   "metadata": {},
   "outputs": [
    {
     "name": "stdout",
     "output_type": "stream",
     "text": [
      "\u001b[1;31mType:\u001b[0m        ndarray\n",
      "\u001b[1;31mString form:\u001b[0m [1 2 3 4 5 6]\n",
      "\u001b[1;31mLength:\u001b[0m      6\n",
      "\u001b[1;31mFile:\u001b[0m        c:\\users\\user\\appdata\\local\\programs\\python\\python311\\lib\\site-packages\\numpy\\__init__.py\n",
      "\u001b[1;31mDocstring:\u001b[0m  \n",
      "ndarray(shape, dtype=float, buffer=None, offset=0,\n",
      "        strides=None, order=None)\n",
      "\n",
      "An array object represents a multidimensional, homogeneous array\n",
      "of fixed-size items.  An associated data-type object describes the\n",
      "format of each element in the array (its byte-order, how many bytes it\n",
      "occupies in memory, whether it is an integer, a floating point number,\n",
      "or something else, etc.)\n",
      "\n",
      "Arrays should be constructed using `array`, `zeros` or `empty` (refer\n",
      "to the See Also section below).  The parameters given here refer to\n",
      "a low-level method (`ndarray(...)`) for instantiating an array.\n",
      "\n",
      "For more information, refer to the `numpy` module and examine the\n",
      "methods and attributes of an array.\n",
      "\n",
      "Parameters\n",
      "----------\n",
      "(for the __new__ method; see Notes below)\n",
      "\n",
      "shape : tuple of ints\n",
      "    Shape of created array.\n",
      "dtype : data-type, optional\n",
      "    Any object that can be interpreted as a numpy data type.\n",
      "buffer : object exposing buffer interface, optional\n",
      "    Used to fill the array with data.\n",
      "offset : int, optional\n",
      "    Offset of array data in buffer.\n",
      "strides : tuple of ints, optional\n",
      "    Strides of data in memory.\n",
      "order : {'C', 'F'}, optional\n",
      "    Row-major (C-style) or column-major (Fortran-style) order.\n",
      "\n",
      "Attributes\n",
      "----------\n",
      "T : ndarray\n",
      "    Transpose of the array.\n",
      "data : buffer\n",
      "    The array's elements, in memory.\n",
      "dtype : dtype object\n",
      "    Describes the format of the elements in the array.\n",
      "flags : dict\n",
      "    Dictionary containing information related to memory use, e.g.,\n",
      "    'C_CONTIGUOUS', 'OWNDATA', 'WRITEABLE', etc.\n",
      "flat : numpy.flatiter object\n",
      "    Flattened version of the array as an iterator.  The iterator\n",
      "    allows assignments, e.g., ``x.flat = 3`` (See `ndarray.flat` for\n",
      "    assignment examples; TODO).\n",
      "imag : ndarray\n",
      "    Imaginary part of the array.\n",
      "real : ndarray\n",
      "    Real part of the array.\n",
      "size : int\n",
      "    Number of elements in the array.\n",
      "itemsize : int\n",
      "    The memory use of each array element in bytes.\n",
      "nbytes : int\n",
      "    The total number of bytes required to store the array data,\n",
      "    i.e., ``itemsize * size``.\n",
      "ndim : int\n",
      "    The array's number of dimensions.\n",
      "shape : tuple of ints\n",
      "    Shape of the array.\n",
      "strides : tuple of ints\n",
      "    The step-size required to move from one element to the next in\n",
      "    memory. For example, a contiguous ``(3, 4)`` array of type\n",
      "    ``int16`` in C-order has strides ``(8, 2)``.  This implies that\n",
      "    to move from element to element in memory requires jumps of 2 bytes.\n",
      "    To move from row-to-row, one needs to jump 8 bytes at a time\n",
      "    (``2 * 4``).\n",
      "ctypes : ctypes object\n",
      "    Class containing properties of the array needed for interaction\n",
      "    with ctypes.\n",
      "base : ndarray\n",
      "    If the array is a view into another array, that array is its `base`\n",
      "    (unless that array is also a view).  The `base` array is where the\n",
      "    array data is actually stored.\n",
      "\n",
      "See Also\n",
      "--------\n",
      "array : Construct an array.\n",
      "zeros : Create an array, each element of which is zero.\n",
      "empty : Create an array, but leave its allocated memory unchanged (i.e.,\n",
      "        it contains \"garbage\").\n",
      "dtype : Create a data-type.\n",
      "numpy.typing.NDArray : An ndarray alias :term:`generic <generic type>`\n",
      "                       w.r.t. its `dtype.type <numpy.dtype.type>`.\n",
      "\n",
      "Notes\n",
      "-----\n",
      "There are two modes of creating an array using ``__new__``:\n",
      "\n",
      "1. If `buffer` is None, then only `shape`, `dtype`, and `order`\n",
      "   are used.\n",
      "2. If `buffer` is an object exposing the buffer interface, then\n",
      "   all keywords are interpreted.\n",
      "\n",
      "No ``__init__`` method is needed because the array is fully initialized\n",
      "after the ``__new__`` method.\n",
      "\n",
      "Examples\n",
      "--------\n",
      "These examples illustrate the low-level `ndarray` constructor.  Refer\n",
      "to the `See Also` section above for easier ways of constructing an\n",
      "ndarray.\n",
      "\n",
      "First mode, `buffer` is None:\n",
      "\n",
      ">>> np.ndarray(shape=(2,2), dtype=float, order='F')\n",
      "array([[0.0e+000, 0.0e+000], # random\n",
      "       [     nan, 2.5e-323]])\n",
      "\n",
      "Second mode:\n",
      "\n",
      ">>> np.ndarray((2,), buffer=np.array([1,2,3]),\n",
      "...            offset=np.int_().itemsize,\n",
      "...            dtype=int) # offset = 1*itemsize, i.e. skip first element\n",
      "array([2, 3])"
     ]
    }
   ],
   "source": [
    "#Using a double question mark ?? allows you to access the source code.\n",
    "a??"
   ]
  },
  {
   "cell_type": "markdown",
   "id": "520187ec",
   "metadata": {},
   "source": [
    "Working with mathematical formulas"
   ]
  },
  {
   "cell_type": "markdown",
   "id": "98e3a114",
   "metadata": {},
   "source": [
    "Can't understand a single word"
   ]
  },
  {
   "cell_type": "code",
   "execution_count": null,
   "id": "41b77a19",
   "metadata": {},
   "outputs": [],
   "source": [
    "#skip"
   ]
  },
  {
   "cell_type": "markdown",
   "id": "39049b73",
   "metadata": {},
   "source": [
    "Importing and exporting CVS"
   ]
  },
  {
   "cell_type": "code",
   "execution_count": 14,
   "id": "c08234c1",
   "metadata": {},
   "outputs": [
    {
     "name": "stdout",
     "output_type": "stream",
     "text": [
      "          0         1         2         3\n",
      "0 -2.582892  0.430148 -1.240820  1.595726\n",
      "1  0.990278  1.171510  0.941257 -0.146925\n",
      "2  0.769893  0.812997 -0.950684  0.117696\n",
      "3  0.204840  0.347845  1.969792  0.519928\n"
     ]
    }
   ],
   "source": [
    "import pandas as pd\n",
    "a = np.array([[-2.58289208,  0.43014843, -1.24082018, 1.59572603],\n",
    "              [ 0.99027828, 1.17150989,  0.94125714, -0.14692469],\n",
    "              [ 0.76989341,  0.81299683, -0.95068423, 0.11769564],\n",
    "              [ 0.20484034,  0.34784527,  1.96979195, 0.51992837]])\n",
    "df = pd.DataFrame(a)\n",
    "print(df)"
   ]
  },
  {
   "cell_type": "code",
   "execution_count": 15,
   "id": "6f56c20a",
   "metadata": {},
   "outputs": [],
   "source": [
    "df.to_csv('used_example_folder\\pd.csv')"
   ]
  },
  {
   "cell_type": "markdown",
   "id": "fad863e2",
   "metadata": {},
   "source": [
    "Plotting arrays with matplotlib"
   ]
  },
  {
   "cell_type": "markdown",
   "id": "c619dab0",
   "metadata": {},
   "source": [
    "Dont Understand +1"
   ]
  },
  {
   "cell_type": "code",
   "execution_count": 24,
   "id": "0c24bc9b",
   "metadata": {},
   "outputs": [
    {
     "data": {
      "text/plain": [
       "Text(0.5, 1.0, 'Normal distribution')"
      ]
     },
     "execution_count": 24,
     "metadata": {},
     "output_type": "execute_result"
    },
    {
     "data": {
      "image/png": "[encoded data removed]",
      "text/plain": [
       "<Figure size 640x480 with 1 Axes>"
      ]
     },
     "metadata": {},
     "output_type": "display_data"
    }
   ],
   "source": [
    "import matplotlib.pyplot as plt\n",
    "a = np.random.normal(size=100,scale=100)\n",
    "plt.plot(a)\n",
    "plt.title('Normal distribution')"
   ]
  },
  {
   "cell_type": "code",
   "execution_count": 25,
   "id": "2694bf49",
   "metadata": {},
   "outputs": [
    {
     "data": {
      "text/plain": [
       "<mpl_toolkits.mplot3d.art3d.Poly3DCollection at 0x1936f310a90>"
      ]
     },
     "execution_count": 25,
     "metadata": {},
     "output_type": "execute_result"
    },
    {
     "data": {
      "image/png": "[encoded data removed]",
      "text/plain": [
       "<Figure size 640x480 with 1 Axes>"
      ]
     },
     "metadata": {},
     "output_type": "display_data"
    }
   ],
   "source": [
    "fig = plt.figure()\n",
    "ax = fig.add_subplot(projection='3d')\n",
    "X = np.arange(-5, 5, 0.15)\n",
    "Y = np.arange(-5, 5, 0.15)\n",
    "X, Y = np.meshgrid(X, Y)\n",
    "R = np.sqrt(X**2 + Y**2)\n",
    "Z = np.sin(R)\n",
    "\n",
    "ax.plot_surface(X, Y, Z, rstride=1, cstride=1, cmap='viridis')"
   ]
  }
 ],
 "metadata": {
  "kernelspec": {
   "display_name": "Python 3",
   "language": "python",
   "name": "python3"
  },
  "language_info": {
   "codemirror_mode": {
    "name": "ipython",
    "version": 3
   },
   "file_extension": ".py",
   "mimetype": "text/x-python",
   "name": "python",
   "nbconvert_exporter": "python",
   "pygments_lexer": "ipython3",
   "version": "3.11.4"
  }
 },
 "nbformat": 4,
 "nbformat_minor": 5
}
