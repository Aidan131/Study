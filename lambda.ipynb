{
 "cells": [
  {
   "cell_type": "markdown",
   "id": "d7128714",
   "metadata": {},
   "source": [
    "Basic Lambda"
   ]
  },
  {
   "cell_type": "code",
   "execution_count": null,
   "id": "7d50f11e",
   "metadata": {},
   "outputs": [],
   "source": [
    "x = lambda a : a + 10\n",
    "print(x(5))"
   ]
  },
  {
   "cell_type": "code",
   "execution_count": null,
   "id": "d7cc4b66",
   "metadata": {},
   "outputs": [],
   "source": [
    "x = lambda a, b : a * b\n",
    "print(x(5, 6))"
   ]
  },
  {
   "cell_type": "code",
   "execution_count": null,
   "id": "ca2a905f",
   "metadata": {},
   "outputs": [],
   "source": [
    "x = lambda a, b, c : a + b + c\n",
    "print(x(5, 6, 2))"
   ]
  },
  {
   "cell_type": "markdown",
   "id": "37f2c389",
   "metadata": {},
   "source": [
    "Lambda with Function"
   ]
  },
  {
   "cell_type": "code",
   "execution_count": 9,
   "id": "3f37bb59",
   "metadata": {},
   "outputs": [],
   "source": [
    "def myfunc(n):\n",
    "  return lambda a : a * n"
   ]
  },
  {
   "cell_type": "code",
   "execution_count": 10,
   "id": "23327c6c",
   "metadata": {},
   "outputs": [
    {
     "name": "stdout",
     "output_type": "stream",
     "text": [
      "22\n"
     ]
    }
   ],
   "source": [
    "mydoubler = myfunc(2)\n",
    "\n",
    "print(mydoubler(11))"
   ]
  },
  {
   "cell_type": "markdown",
   "id": "c543da91",
   "metadata": {},
   "source": [
    "lambda with Map Function"
   ]
  },
  {
   "cell_type": "code",
   "execution_count": 11,
   "id": "f60b95d3",
   "metadata": {},
   "outputs": [],
   "source": [
    "#define list\n",
    "l1 = [1,2,3,4,5,6]"
   ]
  },
  {
   "cell_type": "code",
   "execution_count": 12,
   "id": "ce0171be",
   "metadata": {},
   "outputs": [
    {
     "name": "stdout",
     "output_type": "stream",
     "text": [
      "[2, 4, 6, 8, 10, 12]\n"
     ]
    }
   ],
   "source": [
    "#operating\n",
    "print(list(map(lambda x:x*2, l1)))"
   ]
  },
  {
   "cell_type": "code",
   "execution_count": 13,
   "id": "2466bfef",
   "metadata": {},
   "outputs": [
    {
     "name": "stdout",
     "output_type": "stream",
     "text": [
      "['HELLO', 'WORLD']\n"
     ]
    }
   ],
   "source": [
    "#other type of operation\n",
    "l2 = ['hello','world']\n",
    "print(list(map(lambda x:x.upper(), l2)))"
   ]
  },
  {
   "cell_type": "code",
   "execution_count": 14,
   "id": "b2593745",
   "metadata": {},
   "outputs": [
    {
     "name": "stdout",
     "output_type": "stream",
     "text": [
      "[2, 4, 6, 8, 10, 12]\n"
     ]
    }
   ],
   "source": [
    "#function as operation\n",
    "def double(n):\n",
    "    return n*2\n",
    "print(list(map(lambda x:double(x), l1)))"
   ]
  },
  {
   "cell_type": "markdown",
   "id": "4beac701",
   "metadata": {},
   "source": [
    "lambda with Filter Function"
   ]
  },
  {
   "cell_type": "code",
   "execution_count": 15,
   "id": "90183002",
   "metadata": {},
   "outputs": [
    {
     "name": "stdout",
     "output_type": "stream",
     "text": [
      "[2, 4, 6]\n"
     ]
    }
   ],
   "source": [
    "#using the original l1\n",
    "#choose value\n",
    "print(list(filter(lambda x:x%2 == 0, l1)))"
   ]
  },
  {
   "cell_type": "code",
   "execution_count": 16,
   "id": "1eae2f6c",
   "metadata": {},
   "outputs": [
    {
     "name": "stdout",
     "output_type": "stream",
     "text": [
      "['hello', 'escape']\n"
     ]
    }
   ],
   "source": [
    "#other type of condition\n",
    "l2 = ['hello', 'wor', 'a', 'escape']\n",
    "print(list(filter(lambda x: len(x)>3, l2)))"
   ]
  },
  {
   "cell_type": "markdown",
   "id": "d937a853",
   "metadata": {},
   "source": [
    "If condition in lambda"
   ]
  },
  {
   "cell_type": "code",
   "execution_count": 24,
   "id": "7f579f91",
   "metadata": {},
   "outputs": [
    {
     "name": "stdout",
     "output_type": "stream",
     "text": [
      "dict_items([('Alice', Person(name='Alice', age=30)), ('Bob', Person(name='Bob', age=25)), ('Charlie', Person(name='Charlie', age=35))])\n",
      "('Charlie', Person(name='Charlie', age=35))\n"
     ]
    }
   ],
   "source": [
    "#Select the data of oldest\n",
    "from collections import namedtuple\n",
    "from functools import reduce\n",
    "\n",
    "Person = namedtuple(\"Person\", [\"name\", \"age\"]) #define named tuple\n",
    "\n",
    "people = {'Alice': Person(\"Alice\", 30), 'Bob': Person(\"Bob\", 25), 'Charlie': Person(\"Charlie\", 35)}\n",
    "print(people.items())\n",
    "oldest = reduce(lambda x, y: x if x[1].age > y[1].age else y, people.items())\n",
    "print(oldest)  # 'Charlie'"
   ]
  },
  {
   "cell_type": "markdown",
   "id": "699002d1",
   "metadata": {},
   "source": [
    "Exercise: Sorting a List of Strings by the Length of the Second Letter"
   ]
  },
  {
   "cell_type": "code",
   "execution_count": 35,
   "id": "51d7c428",
   "metadata": {},
   "outputs": [
    {
     "name": "stdout",
     "output_type": "stream",
     "text": [
      "['banana', 'cherry', 'apple', 'orange', 'strawberry']\n"
     ]
    }
   ],
   "source": [
    "def sorting_by_length_of_second_letter(a:list):\n",
    "    b = [{x:x[1]} for x in a]\n",
    "    b = sorted(b, key=lambda x:list(x.values())[0])\n",
    "    return [list(x.keys())[0] for x in b]\n",
    "    \n",
    "print(sorting_by_length_of_second_letter(['banana','apple','cherry','strawberry','orange']))"
   ]
  }
 ],
 "metadata": {
  "kernelspec": {
   "display_name": "Python 3",
   "language": "python",
   "name": "python3"
  },
  "language_info": {
   "codemirror_mode": {
    "name": "ipython",
    "version": 3
   },
   "file_extension": ".py",
   "mimetype": "text/x-python",
   "name": "python",
   "nbconvert_exporter": "python",
   "pygments_lexer": "ipython3",
   "version": "3.11.4"
  }
 },
 "nbformat": 4,
 "nbformat_minor": 5
}
